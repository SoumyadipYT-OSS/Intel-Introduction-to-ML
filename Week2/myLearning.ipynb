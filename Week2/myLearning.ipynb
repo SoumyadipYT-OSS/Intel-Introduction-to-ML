{
 "cells": [
  {
   "cell_type": "markdown",
   "metadata": {},
   "source": [
    "## Introduction to Supervised Learning\n",
    "\n",
    "#### >> Learning Objectives\n",
    "• Explain supervised learning and how it can be applied to \n",
    "regression and classification problems.\n",
    "\n",
    "• Apply K-Nearest Neighbor (KNN) algorithm for \n",
    "classification.\n",
    "\n",
    "• Apply Intel® Extension for Scikit-learn* to leverage \n",
    "underlying compute capabilities of hardware\n"
   ]
  }
 ],
 "metadata": {
  "language_info": {
   "name": "python"
  }
 },
 "nbformat": 4,
 "nbformat_minor": 2
}
