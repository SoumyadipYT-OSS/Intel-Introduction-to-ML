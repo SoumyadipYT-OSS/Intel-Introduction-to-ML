{
 "cells": [
  {
   "cell_type": "markdown",
   "metadata": {},
   "source": [
    "## Introduction to Pandas\n",
    "• Library for computation with tabular data\n",
    "\n",
    "• Mixed types of data allowed in a single \n",
    "table\n",
    "\n",
    "• Columns and rows of data can be named\n",
    "\n",
    "• Advanced data aggregation and statistical \n",
    "functions"
   ]
  },
  {
   "cell_type": "code",
   "execution_count": 1,
   "metadata": {},
   "outputs": [
    {
     "name": "stdout",
     "output_type": "stream",
     "text": [
      "0    3620\n",
      "1    7891\n",
      "2    9761\n",
      "3    3907\n",
      "4    4338\n",
      "5    5373\n",
      "Name: steps, dtype: int64\n"
     ]
    }
   ],
   "source": [
    "# Pandas Series Creation and Indexing\n",
    "# (Use data from step tracking application to create a Pandas Series)\n",
    "\n",
    "import pandas as pd\n",
    "\n",
    "step_data = [3620, 7891, 9761,\n",
    "             3907, 4338, 5373\n",
    "            ]\n",
    "step_counts = pd.Series(step_data, name='steps')\n",
    "print(step_counts)"
   ]
  },
  {
   "cell_type": "code",
   "execution_count": 2,
   "metadata": {},
   "outputs": [
    {
     "name": "stdout",
     "output_type": "stream",
     "text": [
      "0    3620\n",
      "1    7891\n",
      "2    9761\n",
      "3    3907\n",
      "4    4338\n",
      "5    5373\n",
      "Name: steps, dtype: int64\n"
     ]
    }
   ],
   "source": [
    "# Use data from step tracking application to create a Pandas Series\n",
    "import pandas as pd\n",
    "\n",
    "step_data = [3620, 7891, 9761,\n",
    "             3907, 4338, 5373\n",
    "            ]\n",
    "\n",
    "step_counts = pd.Series(step_data, name='steps')\n",
    "print(step_counts)"
   ]
  },
  {
   "cell_type": "code",
   "execution_count": 3,
   "metadata": {},
   "outputs": [
    {
     "name": "stdout",
     "output_type": "stream",
     "text": [
      "2015-03-29    3620\n",
      "2015-03-30    7891\n",
      "2015-03-31    9761\n",
      "2015-04-01    3907\n",
      "2015-04-02    4338\n",
      "2015-04-03    5373\n",
      "Freq: D, Name: steps, dtype: int64\n"
     ]
    }
   ],
   "source": [
    "step_counts.index = pd.date_range('20150329', periods=6)\n",
    "print(step_counts)"
   ]
  },
  {
   "cell_type": "code",
   "execution_count": 4,
   "metadata": {},
   "outputs": [
    {
     "name": "stdout",
     "output_type": "stream",
     "text": [
      "3907\n"
     ]
    }
   ],
   "source": [
    "# Select data by the index values\n",
    "# Just like a dictionary\n",
    "print(step_counts['2015-04-01'])"
   ]
  },
  {
   "cell_type": "code",
   "execution_count": 5,
   "metadata": {},
   "outputs": [
    {
     "name": "stdout",
     "output_type": "stream",
     "text": [
      "3907\n",
      "3907\n"
     ]
    }
   ],
   "source": [
    "# Select data by the index values\n",
    "\n",
    "# Just like a dictionary\n",
    "print(step_counts['2015-04-01'])\n",
    "\n",
    "# Or by index position--like an array\n",
    "print(step_counts.iloc[3])"
   ]
  },
  {
   "cell_type": "code",
   "execution_count": 6,
   "metadata": {},
   "outputs": [
    {
     "name": "stdout",
     "output_type": "stream",
     "text": [
      "int64\n"
     ]
    }
   ],
   "source": [
    "# Data types can be viewed and converted\n",
    "print(step_counts.dtypes)"
   ]
  },
  {
   "cell_type": "code",
   "execution_count": 7,
   "metadata": {},
   "outputs": [
    {
     "name": "stdout",
     "output_type": "stream",
     "text": [
      "int64\n",
      "2015-03-29    3620.0\n",
      "2015-03-30    7891.0\n",
      "2015-03-31    9761.0\n",
      "2015-04-01    3907.0\n",
      "2015-04-02    4338.0\n",
      "2015-04-03    5373.0\n",
      "Freq: D, Name: steps, dtype: float64\n",
      "float64\n"
     ]
    }
   ],
   "source": [
    "# Data types can viewed and converted\n",
    "import numpy as np\n",
    "\n",
    "print(step_counts.dtypes)\n",
    "step_counts = step_counts.astype(np.float64)\n",
    "\n",
    "print(step_counts)\n",
    "print(step_counts.dtypes)"
   ]
  },
  {
   "cell_type": "code",
   "execution_count": 8,
   "metadata": {},
   "outputs": [
    {
     "name": "stdout",
     "output_type": "stream",
     "text": [
      "2015-03-30    0.0\n",
      "2015-03-31    0.0\n",
      "Freq: D, Name: steps, dtype: float64\n"
     ]
    }
   ],
   "source": [
    "# Invalid data points can be easily filled with values\n",
    "\n",
    "# create invalid data\n",
    "step_counts[1:3] = np.nan\n",
    "\n",
    "# Now fill it in with zeros\n",
    "step_counts = step_counts.fillna(0.)\n",
    "\n",
    "# equivalently, step_counts.fillna(0., inplace=True)\n",
    "print(step_counts[1:3])"
   ]
  },
  {
   "cell_type": "code",
   "execution_count": 9,
   "metadata": {},
   "outputs": [
    {
     "name": "stdout",
     "output_type": "stream",
     "text": [
      "      0     1\n",
      "0  3620  10.7\n",
      "1  7891   0.0\n",
      "2  9761   NaN\n",
      "3  3907   2.4\n",
      "4  4338  15.3\n"
     ]
    }
   ],
   "source": [
    "# Cycling distance\n",
    "cycling_data = [10.7, 0, None, 2.4, 15.3]\n",
    "\n",
    "# Create a tuple of data\n",
    "joined_data = list(zip(step_data, cycling_data))\n",
    "\n",
    "# The dataframe\n",
    "activity_df = pd.DataFrame(joined_data)\n",
    "\n",
    "print(activity_df)"
   ]
  },
  {
   "cell_type": "code",
   "execution_count": 10,
   "metadata": {},
   "outputs": [
    {
     "name": "stdout",
     "output_type": "stream",
     "text": [
      "            Walking  Cycling\n",
      "2015-03-29     1000      200\n",
      "2015-03-30     1500      300\n",
      "2015-03-31     1200      250\n",
      "2015-04-01     1300      400\n",
      "2015-04-02     1400      350\n",
      "2015-04-03     1600      450\n"
     ]
    }
   ],
   "source": [
    "import pandas as pd\n",
    "\n",
    "# Sample data\n",
    "joined_data = {\n",
    "    'Walking': [1000, 1500, 1200, 1300, 1400, 1600],\n",
    "    'Cycling': [200, 300, 250, 400, 350, 450]\n",
    "}\n",
    "\n",
    "# Add column names to dataframe and set the index\n",
    "activity_df = pd.DataFrame(\n",
    "    joined_data,\n",
    "    index=pd.date_range('2015-03-29', periods=6),\n",
    "    columns=['Walking', 'Cycling']\n",
    ")\n",
    "\n",
    "print(activity_df)"
   ]
  },
  {
   "cell_type": "code",
   "execution_count": 11,
   "metadata": {},
   "outputs": [
    {
     "name": "stdout",
     "output_type": "stream",
     "text": [
      "Walking    1300\n",
      "Cycling     400\n",
      "Name: 2015-04-01 00:00:00, dtype: int64\n"
     ]
    }
   ],
   "source": [
    "# DataFrame rows can be indexed by row using 'loc' and 'iloc' methods\n",
    "\n",
    "print(activity_df.loc['2015-04-01'])"
   ]
  },
  {
   "cell_type": "code",
   "execution_count": 12,
   "metadata": {},
   "outputs": [
    {
     "name": "stdout",
     "output_type": "stream",
     "text": [
      "Walking    1300\n",
      "Cycling     400\n",
      "Name: 2015-04-01 00:00:00, dtype: int64\n"
     ]
    }
   ],
   "source": [
    "# Select row of data by integer position\n",
    "print(activity_df.iloc[-3])"
   ]
  },
  {
   "cell_type": "code",
   "execution_count": 13,
   "metadata": {},
   "outputs": [
    {
     "name": "stdout",
     "output_type": "stream",
     "text": [
      "2015-03-29    1000\n",
      "2015-03-30    1500\n",
      "2015-03-31    1200\n",
      "2015-04-01    1300\n",
      "2015-04-02    1400\n",
      "2015-04-03    1600\n",
      "Freq: D, Name: Walking, dtype: int64\n"
     ]
    }
   ],
   "source": [
    "# Name of column\n",
    "print(activity_df['Walking'])"
   ]
  },
  {
   "cell_type": "code",
   "execution_count": 15,
   "metadata": {},
   "outputs": [
    {
     "name": "stdout",
     "output_type": "stream",
     "text": [
      "2015-03-29    1000\n",
      "2015-03-30    1500\n",
      "2015-03-31    1200\n",
      "2015-04-01    1300\n",
      "2015-04-02    1400\n",
      "2015-04-03    1600\n",
      "Freq: D, Name: Walking, dtype: int64\n"
     ]
    }
   ],
   "source": [
    "# Object-oriented approach\n",
    "print(activity_df.Walking)"
   ]
  },
  {
   "cell_type": "code",
   "execution_count": 16,
   "metadata": {},
   "outputs": [
    {
     "name": "stdout",
     "output_type": "stream",
     "text": [
      "2015-03-29    1000\n",
      "2015-03-30    1500\n",
      "2015-03-31    1200\n",
      "2015-04-01    1300\n",
      "2015-04-02    1400\n",
      "2015-04-03    1600\n",
      "Freq: D, Name: Walking, dtype: int64\n"
     ]
    }
   ],
   "source": [
    "# DataFrame columns can be indexed by integer\n",
    "print(activity_df.iloc[:,0])"
   ]
  },
  {
   "cell_type": "code",
   "execution_count": null,
   "metadata": {},
   "outputs": [],
   "source": [
    "# The location of the data file\n",
    "filepath = 'data/Iris_Data'"
   ]
  }
 ],
 "metadata": {
  "kernelspec": {
   "display_name": "Python 3",
   "language": "python",
   "name": "python3"
  },
  "language_info": {
   "codemirror_mode": {
    "name": "ipython",
    "version": 3
   },
   "file_extension": ".py",
   "mimetype": "text/x-python",
   "name": "python",
   "nbconvert_exporter": "python",
   "pygments_lexer": "ipython3",
   "version": "3.12.1"
  }
 },
 "nbformat": 4,
 "nbformat_minor": 2
}
